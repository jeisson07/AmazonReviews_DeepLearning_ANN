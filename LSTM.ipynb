{
  "cells": [
    {
      "cell_type": "code",
      "execution_count": 1,
      "metadata": {
        "id": "N_0vJicAle3b"
      },
      "outputs": [],
      "source": [
        "import bs4\n",
        "import torch.nn as nn\n",
        "import torch\n",
        "import torch.nn.functional as F\n",
        "import pandas as pd\n",
        "import numpy as np\n",
        "import matplotlib.pyplot as plt\n",
        "import os,re,json\n",
        "import torch.nn as nn\n",
        "import shutil\n",
        "from torch.utils.data import TensorDataset,DataLoader\n",
        "import gc,time\n",
        "import warnings\n",
        "warnings.filterwarnings(\"ignore\")\n",
        "from sklearn.metrics import roc_auc_score,accuracy_score\n",
        "from collections import Counter\n",
        "from sklearn.model_selection import train_test_split"
      ]
    },
    {
      "cell_type": "code",
      "execution_count": 2,
      "metadata": {
        "colab": {
          "base_uri": "https://localhost:8080/",
          "height": 206
        },
        "id": "B9ooilw9lkFV",
        "outputId": "cd6145b9-10bc-44ca-ce97-433ff799b6a8"
      },
      "outputs": [
        {
          "output_type": "execute_result",
          "data": {
            "text/plain": [
              "         Time                                         clean_text  Score\n",
              "0  1303862400  bought several vitality canned dog food produc...      1\n",
              "1  1346976000  product arrived labeled jumbo salted peanuts p...      0\n",
              "2  1219017600  confection around centuries light pillowy citr...      1\n",
              "3  1307923200  looking secret ingredient robitussin believe f...      0\n",
              "4  1350777600  great taffy great price wide assortment yummy ...      1"
            ],
            "text/html": [
              "\n",
              "  <div id=\"df-c8f1db39-669b-48c7-894d-372e2882250c\">\n",
              "    <div class=\"colab-df-container\">\n",
              "      <div>\n",
              "<style scoped>\n",
              "    .dataframe tbody tr th:only-of-type {\n",
              "        vertical-align: middle;\n",
              "    }\n",
              "\n",
              "    .dataframe tbody tr th {\n",
              "        vertical-align: top;\n",
              "    }\n",
              "\n",
              "    .dataframe thead th {\n",
              "        text-align: right;\n",
              "    }\n",
              "</style>\n",
              "<table border=\"1\" class=\"dataframe\">\n",
              "  <thead>\n",
              "    <tr style=\"text-align: right;\">\n",
              "      <th></th>\n",
              "      <th>Time</th>\n",
              "      <th>clean_text</th>\n",
              "      <th>Score</th>\n",
              "    </tr>\n",
              "  </thead>\n",
              "  <tbody>\n",
              "    <tr>\n",
              "      <th>0</th>\n",
              "      <td>1303862400</td>\n",
              "      <td>bought several vitality canned dog food produc...</td>\n",
              "      <td>1</td>\n",
              "    </tr>\n",
              "    <tr>\n",
              "      <th>1</th>\n",
              "      <td>1346976000</td>\n",
              "      <td>product arrived labeled jumbo salted peanuts p...</td>\n",
              "      <td>0</td>\n",
              "    </tr>\n",
              "    <tr>\n",
              "      <th>2</th>\n",
              "      <td>1219017600</td>\n",
              "      <td>confection around centuries light pillowy citr...</td>\n",
              "      <td>1</td>\n",
              "    </tr>\n",
              "    <tr>\n",
              "      <th>3</th>\n",
              "      <td>1307923200</td>\n",
              "      <td>looking secret ingredient robitussin believe f...</td>\n",
              "      <td>0</td>\n",
              "    </tr>\n",
              "    <tr>\n",
              "      <th>4</th>\n",
              "      <td>1350777600</td>\n",
              "      <td>great taffy great price wide assortment yummy ...</td>\n",
              "      <td>1</td>\n",
              "    </tr>\n",
              "  </tbody>\n",
              "</table>\n",
              "</div>\n",
              "      <button class=\"colab-df-convert\" onclick=\"convertToInteractive('df-c8f1db39-669b-48c7-894d-372e2882250c')\"\n",
              "              title=\"Convert this dataframe to an interactive table.\"\n",
              "              style=\"display:none;\">\n",
              "        \n",
              "  <svg xmlns=\"http://www.w3.org/2000/svg\" height=\"24px\"viewBox=\"0 0 24 24\"\n",
              "       width=\"24px\">\n",
              "    <path d=\"M0 0h24v24H0V0z\" fill=\"none\"/>\n",
              "    <path d=\"M18.56 5.44l.94 2.06.94-2.06 2.06-.94-2.06-.94-.94-2.06-.94 2.06-2.06.94zm-11 1L8.5 8.5l.94-2.06 2.06-.94-2.06-.94L8.5 2.5l-.94 2.06-2.06.94zm10 10l.94 2.06.94-2.06 2.06-.94-2.06-.94-.94-2.06-.94 2.06-2.06.94z\"/><path d=\"M17.41 7.96l-1.37-1.37c-.4-.4-.92-.59-1.43-.59-.52 0-1.04.2-1.43.59L10.3 9.45l-7.72 7.72c-.78.78-.78 2.05 0 2.83L4 21.41c.39.39.9.59 1.41.59.51 0 1.02-.2 1.41-.59l7.78-7.78 2.81-2.81c.8-.78.8-2.07 0-2.86zM5.41 20L4 18.59l7.72-7.72 1.47 1.35L5.41 20z\"/>\n",
              "  </svg>\n",
              "      </button>\n",
              "      \n",
              "  <style>\n",
              "    .colab-df-container {\n",
              "      display:flex;\n",
              "      flex-wrap:wrap;\n",
              "      gap: 12px;\n",
              "    }\n",
              "\n",
              "    .colab-df-convert {\n",
              "      background-color: #E8F0FE;\n",
              "      border: none;\n",
              "      border-radius: 50%;\n",
              "      cursor: pointer;\n",
              "      display: none;\n",
              "      fill: #1967D2;\n",
              "      height: 32px;\n",
              "      padding: 0 0 0 0;\n",
              "      width: 32px;\n",
              "    }\n",
              "\n",
              "    .colab-df-convert:hover {\n",
              "      background-color: #E2EBFA;\n",
              "      box-shadow: 0px 1px 2px rgba(60, 64, 67, 0.3), 0px 1px 3px 1px rgba(60, 64, 67, 0.15);\n",
              "      fill: #174EA6;\n",
              "    }\n",
              "\n",
              "    [theme=dark] .colab-df-convert {\n",
              "      background-color: #3B4455;\n",
              "      fill: #D2E3FC;\n",
              "    }\n",
              "\n",
              "    [theme=dark] .colab-df-convert:hover {\n",
              "      background-color: #434B5C;\n",
              "      box-shadow: 0px 1px 3px 1px rgba(0, 0, 0, 0.15);\n",
              "      filter: drop-shadow(0px 1px 2px rgba(0, 0, 0, 0.3));\n",
              "      fill: #FFFFFF;\n",
              "    }\n",
              "  </style>\n",
              "\n",
              "      <script>\n",
              "        const buttonEl =\n",
              "          document.querySelector('#df-c8f1db39-669b-48c7-894d-372e2882250c button.colab-df-convert');\n",
              "        buttonEl.style.display =\n",
              "          google.colab.kernel.accessAllowed ? 'block' : 'none';\n",
              "\n",
              "        async function convertToInteractive(key) {\n",
              "          const element = document.querySelector('#df-c8f1db39-669b-48c7-894d-372e2882250c');\n",
              "          const dataTable =\n",
              "            await google.colab.kernel.invokeFunction('convertToInteractive',\n",
              "                                                     [key], {});\n",
              "          if (!dataTable) return;\n",
              "\n",
              "          const docLinkHtml = 'Like what you see? Visit the ' +\n",
              "            '<a target=\"_blank\" href=https://colab.research.google.com/notebooks/data_table.ipynb>data table notebook</a>'\n",
              "            + ' to learn more about interactive tables.';\n",
              "          element.innerHTML = '';\n",
              "          dataTable['output_type'] = 'display_data';\n",
              "          await google.colab.output.renderOutput(dataTable, element);\n",
              "          const docLink = document.createElement('div');\n",
              "          docLink.innerHTML = docLinkHtml;\n",
              "          element.appendChild(docLink);\n",
              "        }\n",
              "      </script>\n",
              "    </div>\n",
              "  </div>\n",
              "  "
            ]
          },
          "metadata": {},
          "execution_count": 2
        }
      ],
      "source": [
        "df = pd.read_csv('/content/drive/My Drive/vectors/processed_df.csv')\n",
        "#dropping null values\n",
        "df = df.dropna(axis=0)\n",
        "df.head()"
      ]
    },
    {
      "cell_type": "code",
      "execution_count": 3,
      "metadata": {
        "colab": {
          "base_uri": "https://localhost:8080/"
        },
        "id": "lC1gKsESmKVY",
        "outputId": "7f5fa4f1-067a-4536-a913-c2c0fa7b164c"
      },
      "outputs": [
        {
          "output_type": "execute_result",
          "data": {
            "text/plain": [
              "(392915, 3)"
            ]
          },
          "metadata": {},
          "execution_count": 3
        }
      ],
      "source": [
        "df['Time'] = pd.to_datetime(df['Time'],unit='s')\n",
        "df = df.sort_values('Time')\n",
        "df = df.reset_index(drop=True)\n",
        "df.shape"
      ]
    },
    {
      "cell_type": "code",
      "execution_count": 4,
      "metadata": {
        "colab": {
          "base_uri": "https://localhost:8080/"
        },
        "id": "qBCUpF8vmfhE",
        "outputId": "bbbefc4e-5729-471d-e554-942d6ed6423f"
      },
      "outputs": [
        {
          "output_type": "stream",
          "name": "stdout",
          "text": [
            "shape of X_train is (275040,)\n",
            "shape of X_test is (117875,)\n",
            "shape of y_train is (275040,)\n",
            "shape of y_test is (117875,)\n"
          ]
        }
      ],
      "source": [
        "X = df['clean_text']\n",
        "y = df['Score']\n",
        "X_train,X_test,y_train,y_test = train_test_split(X,y,test_size=0.3,stratify=y,random_state=100)\n",
        "\n",
        "print(f'shape of X_train is {X_train.shape}')\n",
        "print(f'shape of X_test is {X_test.shape}')\n",
        "print(f'shape of y_train is {y_train.shape}')\n",
        "print(f'shape of y_test is {y_test.shape}')"
      ]
    },
    {
      "cell_type": "code",
      "execution_count": 5,
      "metadata": {
        "id": "AWfCskaHmogZ"
      },
      "outputs": [],
      "source": [
        "#helper functions\n",
        "def tockenize(X_train,X_test):\n",
        "  \"\"\"\n",
        "  bow encoding\n",
        "  \"\"\"\n",
        "  word_list = []\n",
        "  for sent in X_train:\n",
        "    for word in sent.split():\n",
        "      word_list.append(word)\n",
        "\n",
        "  corpus = Counter(word_list)\n",
        "  # sorting on the basis of most common words\n",
        "  corpus_ = sorted(corpus,key=corpus.get,reverse=True)\n",
        "  # creating a dict\n",
        "  onehot_dict = {w:i+1 for i,w in enumerate(corpus_)}\n",
        "\n",
        "  train_vec = []\n",
        "  test_vec = []\n",
        "  for sent in X_train:\n",
        "      train_vec.append([onehot_dict[word] for word in sent.split() if word in onehot_dict.keys()])\n",
        "\n",
        "  for sent in X_test:\n",
        "      test_vec.append([onehot_dict[word] for word in sent.split() if word in onehot_dict.keys()])\n",
        "\n",
        "  return train_vec,test_vec,onehot_dict\n",
        "\n",
        "def padding_(sentences, seq_len):\n",
        "    \"\"\"\n",
        "    do padding on left handside\n",
        "    ie, if seq_len = 5 and input is [1,2,3] out will be [0,0,1,2,3]\n",
        "\n",
        "    \"\"\"\n",
        "    features = np.zeros((len(sentences), seq_len),dtype=int)\n",
        "    for ii, review in enumerate(sentences):\n",
        "        if len(review) != 0:\n",
        "            features[ii, -len(review):] = np.array(review)[:seq_len]\n",
        "    return features"
      ]
    },
    {
      "cell_type": "code",
      "execution_count": 6,
      "metadata": {
        "colab": {
          "base_uri": "https://localhost:8080/"
        },
        "id": "c9cFaCyxms0R",
        "outputId": "49a97529-07f8-48ff-babf-50e6e77f0a0f"
      },
      "outputs": [
        {
          "output_type": "stream",
          "name": "stdout",
          "text": [
            "Total number of words 101648\n"
          ]
        }
      ],
      "source": [
        "X_train = X_train.values\n",
        "X_test = X_test.values\n",
        "train_seq,  test_seq,corpus_dict = tockenize(X_train,X_test)\n",
        "corpus = [i for i in corpus_dict.keys()]\n",
        "print(f'Total number of words {len(corpus)}')"
      ]
    },
    {
      "cell_type": "code",
      "execution_count": 7,
      "metadata": {
        "id": "xBP5nnsxmy5G"
      },
      "outputs": [],
      "source": [
        " import json\n",
        "# convert into JSON:\n",
        "with open(\"corpus_dict\", \"w\") as fp:\n",
        "    json.dump(corpus_dict,fp) "
      ]
    },
    {
      "cell_type": "code",
      "execution_count": 8,
      "metadata": {
        "colab": {
          "base_uri": "https://localhost:8080/"
        },
        "id": "uzwJEDRem9LF",
        "outputId": "0ce4fe38-25c1-45f0-8f43-f7a3d8a6ef76"
      },
      "outputs": [
        {
          "output_type": "stream",
          "name": "stdout",
          "text": [
            "given young dog persistent loose stools older dog also problems loose stools adult formula immediately rectified change innova see large number serious complaints web new formulation buying\n",
            "[528, 1521, 47, 9790, 733, 2566, 1183, 47, 20, 468, 733, 2566, 1424, 473, 707, 14866, 512, 3772, 121, 258, 785, 1718, 1696, 1543, 152, 5127, 124]\n"
          ]
        }
      ],
      "source": [
        "print(X_train[162])\n",
        "print(train_seq[162])"
      ]
    },
    {
      "cell_type": "code",
      "execution_count": 9,
      "metadata": {
        "colab": {
          "base_uri": "https://localhost:8080/",
          "height": 421
        },
        "id": "xf-_onsKnCk9",
        "outputId": "80a0763f-8e8e-440a-c07f-81150b4a65e3"
      },
      "outputs": [
        {
          "output_type": "display_data",
          "data": {
            "text/plain": [
              "<Figure size 432x288 with 1 Axes>"
            ],
            "image/png": "[encoded data removed]"
          },
          "metadata": {
            "needs_background": "light"
          }
        },
        {
          "output_type": "execute_result",
          "data": {
            "text/plain": [
              "count    275040.000000\n",
              "mean         39.898117\n",
              "std          38.840086\n",
              "min           1.000000\n",
              "25%          17.000000\n",
              "50%          28.000000\n",
              "75%          49.000000\n",
              "max        1983.000000\n",
              "dtype: float64"
            ]
          },
          "metadata": {},
          "execution_count": 9
        }
      ],
      "source": [
        "rev_len = [len(i) for i in train_seq]\n",
        "pd.Series(rev_len).hist()\n",
        "plt.show()\n",
        "pd.Series(rev_len).describe()"
      ]
    },
    {
      "cell_type": "code",
      "execution_count": 10,
      "metadata": {
        "colab": {
          "base_uri": "https://localhost:8080/",
          "height": 421
        },
        "id": "tHDpb-zznUuS",
        "outputId": "49f77fb9-75c9-4bb3-edd9-2b634479d8b8"
      },
      "outputs": [
        {
          "output_type": "display_data",
          "data": {
            "text/plain": [
              "<Figure size 432x288 with 1 Axes>"
            ],
            "image/png": "[encoded data removed]"
          },
          "metadata": {
            "needs_background": "light"
          }
        },
        {
          "output_type": "execute_result",
          "data": {
            "text/plain": [
              "count    117875.000000\n",
              "mean         39.640874\n",
              "std          38.351756\n",
              "min           1.000000\n",
              "25%          17.000000\n",
              "50%          28.000000\n",
              "75%          48.000000\n",
              "max        1013.000000\n",
              "dtype: float64"
            ]
          },
          "metadata": {},
          "execution_count": 10
        }
      ],
      "source": [
        "rev_len = [len(i) for i in test_seq]\n",
        "pd.Series(rev_len).hist()\n",
        "plt.show()\n",
        "pd.Series(rev_len).describe()"
      ]
    },
    {
      "cell_type": "code",
      "execution_count": 11,
      "metadata": {
        "id": "5u9O3SGInNY5"
      },
      "outputs": [],
      "source": [
        "seq_train_pad = padding_(np.array(train_seq),225)\n",
        "seq_test_pad = padding_(np.array(test_seq),225)"
      ]
    },
    {
      "cell_type": "code",
      "execution_count": 12,
      "metadata": {
        "colab": {
          "base_uri": "https://localhost:8080/"
        },
        "id": "OO5RO1MTnckh",
        "outputId": "3a709c91-56eb-4152-c863-5599d02a5c21"
      },
      "outputs": [
        {
          "output_type": "execute_result",
          "data": {
            "text/plain": [
              "array([   0,    0,    0,    0,    0,    0,    0,    0,    0,    0,    0,\n",
              "          0,    0,    0,    0,    0,    0,    0,    0,    0,    0,    0,\n",
              "          0,    0,    0,    0,    0,    0,    0,    0,    0,    0,    0,\n",
              "          0,    0,    0,    0,    0,    0,    0,    0,    0,    0,    0,\n",
              "          0,    0,    0,    0,    0,    0,    0,    0,    0,    0,    0,\n",
              "          0,    0,    0,    0,    0,    0,    0,    0,    0,    0,    0,\n",
              "          0,    0,    0,    0,    0,    0,    0,    0,    0,    0,    0,\n",
              "          0,    0,    0,    0,    0,    0,    0,    0,    0,    0,    0,\n",
              "          0,    0,    0,    0,    0,    0,    0,    0,    0,    0,    0,\n",
              "          0,    0,    0,    0,    0,    0,    0,    0,    0,    0,    0,\n",
              "          0,    0,    0,    0,    0,    0,    0,    0,    0,    0,    0,\n",
              "          0,    0,    0,    0,    0,    0,    0,    0,    0,    0,    0,\n",
              "          0,    0,    0,    0,    0,    0,    0,    0,    0,    0,    0,\n",
              "          0,    0,    0,    0,    0,    0,    0,    0,    0,    0,    0,\n",
              "          0,    0,    0,    0,    0,    0,    0,    0,  191,  259, 5764,\n",
              "        202,  369,   77,  583,   25,  509,  621,   10,  370,    3,    9,\n",
              "         13,  281,  467,   26,  827, 6613,  176,  174,  470, 2043, 1185,\n",
              "          3,  298,  509,   10, 2852,  275, 5360, 2353,    9,    2,   10,\n",
              "         62,  840,    1,  644,   17,   10,  882,   46,   74,  238,  383,\n",
              "        509,  711,    4,   84,  751, 1348,   84,   14, 1060,  231,   10,\n",
              "         19,  106,  559,   10, 1076])"
            ]
          },
          "metadata": {},
          "execution_count": 12
        }
      ],
      "source": [
        "seq_train_pad[163]"
      ]
    },
    {
      "cell_type": "markdown",
      "metadata": {
        "id": "RVlLXyVt0nba"
      },
      "source": [
        "Embebing"
      ]
    },
    {
      "cell_type": "code",
      "execution_count": 13,
      "metadata": {
        "colab": {
          "base_uri": "https://localhost:8080/"
        },
        "id": "XsPDXDP7GKar",
        "outputId": "a255f275-c9a7-466b-9150-f9a26c5ff63c"
      },
      "outputs": [
        {
          "output_type": "stream",
          "name": "stdout",
          "text": [
            "Loading Glove Model\n",
            "1917494  words loaded!\n"
          ]
        },
        {
          "output_type": "execute_result",
          "data": {
            "text/plain": [
              "6327"
            ]
          },
          "metadata": {},
          "execution_count": 13
        }
      ],
      "source": [
        "\n",
        "def loadGloveModel(File):\n",
        "    print(\"Loading Glove Model\")\n",
        "    f = open(File,'r')\n",
        "    gloveModel = {}\n",
        "    for line in f:\n",
        "        splitLines = line.split()\n",
        "        word = splitLines[0]\n",
        "        wordEmbedding = np.array([float(value) for value in splitLines[1:]])\n",
        "        gloveModel[word] = wordEmbedding\n",
        "    print(len(gloveModel),\" words loaded!\")\n",
        "    return gloveModel\n",
        "\n",
        "glove_dict =  loadGloveModel(\"/content/drive/My Drive/vectors/glove.42B.300d.txt\")\n",
        "gc.collect()"
      ]
    },
    {
      "cell_type": "code",
      "execution_count": 14,
      "metadata": {
        "colab": {
          "base_uri": "https://localhost:8080/"
        },
        "id": "64FDkUbHoTth",
        "outputId": "067b617b-8b59-40a3-955b-101dfe4bb8cf"
      },
      "outputs": [
        {
          "output_type": "stream",
          "name": "stdout",
          "text": [
            "(101649, 300)\n"
          ]
        }
      ],
      "source": [
        "embedding_matrix = np.zeros((len(corpus) + 1, 300))\n",
        "for i,word in enumerate(corpus):\n",
        "  if word in glove_dict.keys():\n",
        "    embedding_vec = glove_dict[word]\n",
        "    embedding_matrix[i] = embedding_vec\n",
        "\n",
        " \n",
        "print(embedding_matrix.shape)  \n",
        "\n",
        "np.save('/content/drive/My Drive/vectors/embedding_matrix_model.npy',embedding_matrix)"
      ]
    },
    {
      "cell_type": "code",
      "execution_count": 15,
      "metadata": {
        "id": "ZxgLoCQAGi59"
      },
      "outputs": [],
      "source": [
        "#loading embedding\n",
        "embedding_matrix = np.load('/content/drive/My Drive/vectors/embedding_matrix_model.npy')\n",
        "\n",
        "\n",
        "final_train = seq_train_pad\n",
        "final_test = seq_test_pad\n",
        "# create Tensor datasets\n",
        "train_data = TensorDataset(torch.from_numpy(final_train), torch.from_numpy(y_train.values))\n",
        "test_data = TensorDataset(torch.from_numpy(final_test), torch.from_numpy(y_test.values))\n",
        "\n",
        "# dataloaders\n",
        "batch_size = 500\n",
        "\n",
        "# make sure to SHUFFLE your data\n",
        "train_loader = DataLoader(train_data,  batch_size=batch_size, shuffle=True)\n",
        "test_loader = DataLoader(test_data,  batch_size=batch_size, shuffle=True )"
      ]
    },
    {
      "cell_type": "code",
      "execution_count": 16,
      "metadata": {
        "colab": {
          "base_uri": "https://localhost:8080/"
        },
        "id": "_U_kDqNGp_8K",
        "outputId": "42c7dd2d-70b3-4e97-d714-24f2468b5224"
      },
      "outputs": [
        {
          "output_type": "stream",
          "name": "stdout",
          "text": [
            "torch.Size([500, 225])\n",
            "torch.Size([500])\n"
          ]
        }
      ],
      "source": [
        "for x,y in train_loader:\n",
        "  print(x.shape)\n",
        "  print(y.shape) \n",
        "  break"
      ]
    },
    {
      "cell_type": "markdown",
      "metadata": {
        "id": "_-e4oqAQnjqQ"
      },
      "source": [
        "Modelo 1."
      ]
    },
    {
      "cell_type": "code",
      "execution_count": 17,
      "metadata": {
        "id": "yLeFxIDPoDfK"
      },
      "outputs": [],
      "source": [
        "class Network(nn.Module):\n",
        "  def __init__(self,embedding_matrix,hidden_dim,no_layers=1):\n",
        "    super().__init__()\n",
        "    vocab_size = embedding_matrix.shape[0]\n",
        "    embedding_dim = embedding_matrix.shape[1]\n",
        "    self.hidden_dim = hidden_dim\n",
        "    self.n_layers = no_layers\n",
        "    self.embedding = nn.Embedding(vocab_size,embedding_dim)\n",
        "    self.embedding.weight.data.copy_(torch.from_numpy(embedding_matrix))\n",
        "    self.embedding.weight.requires_grad = False\n",
        "\n",
        "    self.lstm = nn.LSTM(embedding_dim,hidden_size=self.hidden_dim,batch_first=True,num_layers=self.n_layers)\n",
        "    self.dropout = nn.Dropout(0.2)\n",
        "    self.linear1 = nn.Linear(self.hidden_dim,self.hidden_dim//2)\n",
        "    self.linear2 = nn.Linear(self.hidden_dim//2,2)\n",
        "\n",
        "  def forward(self,x):\n",
        "    batch_size= x.shape[0]     #batch_size,seq_len\n",
        "    x = self.embedding(x)      #batch_size,seq_len,embed_dim\n",
        "    lstm_out,h = self.lstm(x)  #batch_size,seq_len,hidden_dim*no_layers \n",
        "    lstm_out = self.dropout(lstm_out)\n",
        "    lstm_out = lstm_out.contiguous().view(-1,self.hidden_dim)  #batch_size*seq_len*no_layers,hidden_dim\n",
        "    out = self.linear1(lstm_out)   #batch_size*seq_len*no_layers, out_dim\n",
        "    out = self.linear2(out)\n",
        "    out = out.view(batch_size,-1) #batch_size,seq_len*out_dim*no_layers\n",
        "    return out[:,-2:]"
      ]
    },
    {
      "cell_type": "code",
      "execution_count": 18,
      "metadata": {
        "colab": {
          "base_uri": "https://localhost:8080/"
        },
        "id": "q4609jNdo2TZ",
        "outputId": "b55dba63-2efd-45b3-cbb2-83253d5c0af1"
      },
      "outputs": [
        {
          "output_type": "execute_result",
          "data": {
            "text/plain": [
              "Network(\n",
              "  (embedding): Embedding(101649, 300)\n",
              "  (lstm): LSTM(300, 100, batch_first=True)\n",
              "  (dropout): Dropout(p=0.2, inplace=False)\n",
              "  (linear1): Linear(in_features=100, out_features=50, bias=True)\n",
              "  (linear2): Linear(in_features=50, out_features=2, bias=True)\n",
              ")"
            ]
          },
          "metadata": {},
          "execution_count": 18
        }
      ],
      "source": [
        "device = torch.device('cuda:0' if torch.cuda.is_available() else 'cpu')\n",
        "model = Network(embedding_matrix,hidden_dim=100,no_layers=1)\n",
        "model = model.to(device)\n",
        "model"
      ]
    },
    {
      "cell_type": "code",
      "execution_count": 19,
      "metadata": {
        "id": "b0opvzvQpFvY"
      },
      "outputs": [],
      "source": [
        "criterion = nn.CrossEntropyLoss()\n",
        "parameters = filter(lambda p: p.requires_grad, model.parameters())\n",
        "optimizer = torch.optim.Adam(params=parameters,lr=0.001)\n",
        "\n",
        "\n",
        "# helper functions\n",
        "#function to calculate auc and accuracy\n",
        "def score(y,y_pred,y_prob_pred):\n",
        "  roc_score = roc_auc_score(y,y_prob_pred)\n",
        "  acc = accuracy_score(y,y_pred)\n",
        "  return roc_score, acc\n",
        "\n",
        "def save_ckp(state, is_best, checkpoint_path, best_model_path):\n",
        "  \"\"\"\n",
        "  state: checkpoint we want to save\n",
        "  is_best: is this the best checkpoint; min validation loss\n",
        "  checkpoint_path: path to save checkpoint\n",
        "  best_model_path: path to save best model\n",
        "  \"\"\"\n",
        "  # save checkpoint data to the path given, checkpoint_path\n",
        "  torch.save(state, checkpoint_path)\n",
        "  # if it is a best model, min validation loss\n",
        "  if is_best:\n",
        "  # copy that checkpoint file to best path given, best_model_path\n",
        "      shutil.copyfile(checkpoint_path, best_model_path)"
      ]
    },
    {
      "cell_type": "code",
      "execution_count": null,
      "metadata": {
        "colab": {
          "base_uri": "https://localhost:8080/"
        },
        "id": "9VSp3sBhpHLU",
        "outputId": "af6755ce-e375-4eba-d33a-e627bd3ae5f9"
      },
      "outputs": [
        {
          "output_type": "stream",
          "name": "stdout",
          "text": [
            "Epoch 1\n"
          ]
        }
      ],
      "source": [
        "metrics = {'train_auc': [],'test_auc' : [], 'train_accuracy':[], 'test_accuracy':[], 'train_loss':[],'test_loss': []}\n",
        "epochs = 7\n",
        "checkpoint_path = '/content/drive/My Drive/vectors/models/chkpoint1_'\n",
        "best_model_path = '/content/drive/My Drive/vectors/models/bestmodel1.pt'\n",
        "test_loss_min = np.Inf\n",
        "\n",
        "for epoch in range(epochs):\n",
        "    start_time = time.time()\n",
        "    print(f'Epoch {epoch + 1}')\n",
        "    AUC = 0.0 \n",
        "    ACC = 0.0\n",
        "    LOSS = 0.0\n",
        "    model.train()\n",
        "    for x,y in train_loader:\n",
        "        batch_size = x.shape[0]\n",
        "        x = x.long()\n",
        "        y = y.long()\n",
        "        x = x.to(device)\n",
        "        y = y.to(device)\n",
        "        optimizer.zero_grad()\n",
        "        y_pred = model(x)\n",
        "        loss = criterion(y_pred,y)\n",
        "        loss.backward()\n",
        "        # nn.utils.clip_grad_norm(model.parameters(), clip)\n",
        "        optimizer.step()\n",
        "        _, y_hat_pred = torch.max(y_pred,axis=1)\n",
        "        y_hat_prob = y_pred[:,-1]\n",
        "        y_, y_hat_pred_,y_hat_prob_ = y.detach(), y_hat_pred.detach(), y_hat_prob.detach()\n",
        "        auc_score, acc = score(y_.cpu().numpy(), y_hat_pred_.cpu().numpy(), y_hat_prob_.cpu().numpy())\n",
        "        ACC += (acc * batch_size)\n",
        "        LOSS += (loss * batch_size)\n",
        "        AUC += (auc_score * batch_size)\n",
        "\n",
        "    epoch_auc = AUC / len(train_loader.dataset)\n",
        "    train_epoch_loss = LOSS / len(train_loader.dataset)\n",
        "    epoch_accuracy = ACC / len(train_loader.dataset)\n",
        "    metrics['train_auc'].append(epoch_auc)\n",
        "    metrics['train_accuracy'].append(epoch_accuracy)\n",
        "    metrics['train_loss'].append(train_epoch_loss)\n",
        "    print(f'Train:  Loss: {train_epoch_loss}, Accuracy: {epoch_accuracy}, AUC: {epoch_auc}')\n",
        "\n",
        "\n",
        "    AUC = 0.0 \n",
        "    ACC = 0.0\n",
        "    LOSS = 0.0\n",
        "    model.eval()\n",
        "    with torch.no_grad():\n",
        "      for x,y in test_loader:\n",
        "        batch_size = x.shape[0]\n",
        "        x = x.long()\n",
        "        y = y.long()\n",
        "        x = x.to(device)\n",
        "        y = y.to(device)\n",
        "        y_pred = model(x)\n",
        "        loss = criterion(y_pred,y)\n",
        "        _, y_hat_pred = torch.max(y_pred,axis=1)\n",
        "        y_hat_prob = y_pred[:,-1]\n",
        "        y_, y_hat_pred_,y_hat_prob_ = y.detach(), y_hat_pred.detach(), y_hat_prob.detach()  # detaching from torch graph to use it for calculation auc\n",
        "        auc_score, acc = score(y_.cpu().numpy(), y_hat_pred_.cpu().numpy(), y_hat_prob_.cpu().numpy())\n",
        "        ACC += (acc * batch_size)\n",
        "        LOSS += (loss * batch_size)\n",
        "        AUC += (auc_score * batch_size)\n",
        "\n",
        "    epoch_auc = AUC / len(test_loader.dataset)\n",
        "    test_epoch_loss = LOSS / len(test_loader.dataset)\n",
        "    epoch_accuracy = ACC / len(test_loader.dataset)\n",
        "\n",
        "    metrics['test_auc'].append(epoch_auc)\n",
        "    metrics['test_accuracy'].append(epoch_accuracy)\n",
        "    metrics['test_loss'].append(test_epoch_loss)\n",
        "    print(f'Validation Loss: {test_epoch_loss}, Accuracy: {epoch_accuracy}, AUC: {epoch_auc}')\n",
        "    #save checkpoint\n",
        "    checkpoint = {\n",
        "            'epoch': epoch + 1,\n",
        "            'valid_loss_min': test_epoch_loss,\n",
        "            'state_dict': model.state_dict(),\n",
        "            'optimizer': optimizer.state_dict(),\n",
        "        }\n",
        "    save_ckp(checkpoint, False, checkpoint_path, best_model_path)\n",
        "    if test_epoch_loss <= train_epoch_loss and test_epoch_loss <= test_loss_min:\n",
        "        print('Validation loss decreased ({:.6f}).  Saving model ...'.format(test_epoch_loss))\n",
        "        # save checkpoint as best model\n",
        "        save_ckp(checkpoint, True, checkpoint_path, best_model_path)\n",
        "        test_loss_min = test_epoch_loss\n",
        "\n",
        "    time_elapsed = time.time() - start_time\n",
        "    print('{:.0f}m {:.0f}s'.format(time_elapsed // 60, time_elapsed % 60))\n",
        "    print('--'*50)"
      ]
    }
  ],
  "metadata": {
    "colab": {
      "name": "LSTM.ipynb",
      "provenance": []
    },
    "kernelspec": {
      "display_name": "Python 3",
      "name": "python3"
    },
    "language_info": {
      "name": "python"
    }
  },
  "nbformat": 4,
  "nbformat_minor": 0
}